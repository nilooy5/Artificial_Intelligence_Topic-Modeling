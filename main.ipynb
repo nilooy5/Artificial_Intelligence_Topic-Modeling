{
 "cells": [
  {
   "cell_type": "markdown",
   "source": [
    "# Importing libraries"
   ],
   "metadata": {
    "collapsed": false
   }
  },
  {
   "cell_type": "code",
   "execution_count": 1,
   "metadata": {
    "collapsed": true
   },
   "outputs": [
    {
     "name": "stderr",
     "output_type": "stream",
     "text": [
      "[nltk_data] Downloading package omw-1.4 to\n",
      "[nltk_data]     C:\\Users\\fazal\\AppData\\Roaming\\nltk_data...\n",
      "[nltk_data]   Package omw-1.4 is already up-to-date!\n",
      "[nltk_data] Downloading package stopwords to\n",
      "[nltk_data]     C:\\Users\\fazal\\AppData\\Roaming\\nltk_data...\n",
      "[nltk_data]   Package stopwords is already up-to-date!\n",
      "[nltk_data] Downloading package punkt to\n",
      "[nltk_data]     C:\\Users\\fazal\\AppData\\Roaming\\nltk_data...\n",
      "[nltk_data]   Package punkt is already up-to-date!\n",
      "[nltk_data] Downloading package wordnet to\n",
      "[nltk_data]     C:\\Users\\fazal\\AppData\\Roaming\\nltk_data...\n",
      "[nltk_data]   Package wordnet is already up-to-date!\n"
     ]
    },
    {
     "data": {
      "text/plain": "131072"
     },
     "execution_count": 1,
     "metadata": {},
     "output_type": "execute_result"
    }
   ],
   "source": [
    "import csv\n",
    "import os\n",
    "import pandas as pd\n",
    "import numpy as np\n",
    "import nltk\n",
    "from nltk.stem import WordNetLemmatizer\n",
    "from nltk.tokenize import word_tokenize\n",
    "from nltk.corpus import stopwords\n",
    "from nltk.stem import PorterStemmer\n",
    "\n",
    "nltk.download('omw-1.4')\n",
    "nltk.download('stopwords')\n",
    "nltk.download('punkt')\n",
    "nltk.download('wordnet')\n",
    "stop_words = set(stopwords.words('english'))\n",
    "\n",
    "csv.field_size_limit(1000000000)"
   ]
  },
  {
   "cell_type": "markdown",
   "source": [
    "# Reading the file and performing basic cleanup"
   ],
   "metadata": {
    "collapsed": false
   }
  },
  {
   "cell_type": "code",
   "execution_count": 2,
   "outputs": [
    {
     "name": "stderr",
     "output_type": "stream",
     "text": [
      "C:\\Users\\fazal\\AppData\\Local\\Temp\\ipykernel_18900\\1155373532.py:6: FutureWarning: The default value of regex will change from True to False in a future version.\n",
      "  df['speech'] = df['speech'].str.replace('\\nAddress on Administration Goals (Budget Message)\\n', '')\n",
      "C:\\Users\\fazal\\AppData\\Local\\Temp\\ipykernel_18900\\1155373532.py:16: SettingWithCopyWarning: \n",
      "A value is trying to be set on a copy of a slice from a DataFrame\n",
      "\n",
      "See the caveats in the documentation: https://pandas.pydata.org/pandas-docs/stable/user_guide/indexing.html#returning-a-view-versus-a-copy\n",
      "  df['date'][df['date'] == 'Address on Administration Goals (Budget Message)'] = temp_date.values[0]\n",
      "C:\\Users\\fazal\\AppData\\Local\\Temp\\ipykernel_18900\\1155373532.py:23: FutureWarning: The default value of regex will change from True to False in a future version.\n",
      "  df['speech'] = df['speech'].str.replace('\\\\\\'', '')\n"
     ]
    }
   ],
   "source": [
    "# read csv file from data folder\n",
    "df = pd.read_csv(os.path.join('data', 'state-of-the-union.csv'), names=['year', 'speech'], skiprows=1)\n",
    "\n",
    "df['speech'] = df['speech'].str.replace('\\nState of the Union Address\\n', '')\n",
    "df['speech'] = df['speech'].str.replace('\\nAddress to Joint Session of Congress \\n', '')\n",
    "df['speech'] = df['speech'].str.replace('\\nAddress on Administration Goals (Budget Message)\\n', '')\n",
    "df['speech'] = df['speech'].str.replace('\\nAddress on Administration Goals\\n', '')\n",
    "df['speech'] = df['speech'].str.replace('\\nAddress to Congress \\n', '')\n",
    "\n",
    "df['president'] = df['speech']\n",
    "\n",
    "df['president'] = df['president'].str.split('\\n').str[0]\n",
    "df['date'] = df['speech'].str.split('\\n').str[1]\n",
    "\n",
    "temp_date = df[df['date'] == 'Address on Administration Goals (Budget Message)']['speech'].str.split('\\n').str[3]\n",
    "df['date'][df['date'] == 'Address on Administration Goals (Budget Message)'] = temp_date.values[0]\n",
    "\n",
    "# delete first 3 lines of speech\n",
    "df['speech'] = df['speech'].str.split('\\n').str[3:]\n",
    "# make a string list\n",
    "df['speech'] = df['speech'].str.join(' ')\n",
    "# replace \\ with ''\n",
    "df['speech'] = df['speech'].str.replace('\\\\\\'', '')"
   ],
   "metadata": {
    "collapsed": false
   }
  },
  {
   "cell_type": "markdown",
   "source": [
    "# Performing Lemmatization"
   ],
   "metadata": {
    "collapsed": false
   }
  },
  {
   "cell_type": "code",
   "execution_count": 3,
   "outputs": [],
   "source": [
    "lemmatizer = WordNetLemmatizer()\n",
    "\n",
    "\n",
    "def lemmatize_text(text):\n",
    "    return [lemmatizer.lemmatize(w) for w in word_tokenize(text)]\n",
    "\n",
    "\n",
    "df['speech'] = df['speech'].apply(lemmatize_text)\n",
    "df['speech'] = df['speech'].apply(lambda x: [item for item in x if item not in stop_words])\n",
    "df['speech'] = df['speech'].apply(lambda x: ' '.join(x))\n",
    "\n",
    "print(df['speech'].head(10))"
   ],
   "metadata": {
    "collapsed": false
   }
  },
  {
   "cell_type": "markdown",
   "source": [
    "# Performing Stemming"
   ],
   "metadata": {
    "collapsed": false
   }
  },
  {
   "cell_type": "code",
   "execution_count": 4,
   "outputs": [
    {
     "name": "stdout",
     "output_type": "stream",
     "text": [
      "0    fellow-citizen senat hous repres : meet feel m...\n",
      "1    fellow-citizen senat hous repres : `` vain may...\n",
      "2    fellow-citizen senat hous repres : abat satisf...\n",
      "3    fellow-citizen senat hous repres : sinc commen...\n",
      "4    fellow-citizen senat hous repres : call mind g...\n",
      "5    fellow-citizen senat hous repres : trust decei...\n",
      "6    fellow-citizen senat hous repres : recur inter...\n",
      "7    gentlemen senat gentlemen hous repres : wa tim...\n",
      "8    gentlemen senat gentlemen hous repres : rever ...\n",
      "9    gentlemen senat gentlemen hous repres : peculi...\n",
      "Name: speech, dtype: object\n"
     ]
    }
   ],
   "source": [
    "# perform stemming\n",
    "stemmer = PorterStemmer()\n",
    "\n",
    "\n",
    "def stem_text(text):\n",
    "    return [stemmer.stem(w) for w in word_tokenize(text)]\n",
    "\n",
    "\n",
    "df['speech'] = df['speech'].apply(stem_text)\n",
    "df['speech'] = df['speech'].apply(lambda x: [item for item in x if item not in stop_words])\n",
    "df['speech'] = df['speech'].apply(lambda x: ' '.join(x))\n",
    "\n",
    "# remove punctuation\n",
    "# import string\n",
    "#\n",
    "# df['speech'] = df['speech'].str.replace('[{}]'.format(string.punctuation), '')\n",
    "\n",
    "\n",
    "print(df['speech'].head(10))"
   ],
   "metadata": {
    "collapsed": false
   }
  },
  {
   "cell_type": "code",
   "execution_count": 6,
   "outputs": [
    {
     "name": "stdout",
     "output_type": "stream",
     "text": [
      "0    fellowcitizen senat hous repres  meet feel muc...\n",
      "1    fellowcitizen senat hous repres   vain may exp...\n",
      "2    fellowcitizen senat hous repres  abat satisfac...\n",
      "3    fellowcitizen senat hous repres  sinc commenc ...\n",
      "4    fellowcitizen senat hous repres  call mind gra...\n",
      "5    fellowcitizen senat hous repres  trust deceiv ...\n",
      "6    fellowcitizen senat hous repres  recur intern ...\n",
      "7    gentlemen senat gentlemen hous repres  wa time...\n",
      "8    gentlemen senat gentlemen hous repres  rever r...\n",
      "9    gentlemen senat gentlemen hous repres  peculia...\n",
      "Name: speech, dtype: object\n"
     ]
    },
    {
     "name": "stderr",
     "output_type": "stream",
     "text": [
      "C:\\Users\\fazal\\AppData\\Local\\Temp\\ipykernel_18900\\939221554.py:4: FutureWarning: The default value of regex will change from True to False in a future version.\n",
      "  df['speech'] = df['speech'].str.replace('[{}]'.format(string.punctuation), '')\n"
     ]
    }
   ],
   "source": [
    "# remove punctuation\n",
    "import string\n",
    "\n",
    "df['speech'] = df['speech'].str.replace('[{}]'.format(string.punctuation), '')\n",
    "print(df['speech'].head(10))"
   ],
   "metadata": {
    "collapsed": false
   }
  },
  {
   "cell_type": "code",
   "execution_count": null,
   "outputs": [],
   "source": [],
   "metadata": {
    "collapsed": false
   }
  }
 ],
 "metadata": {
  "kernelspec": {
   "display_name": "Python 3",
   "language": "python",
   "name": "python3"
  },
  "language_info": {
   "codemirror_mode": {
    "name": "ipython",
    "version": 2
   },
   "file_extension": ".py",
   "mimetype": "text/x-python",
   "name": "python",
   "nbconvert_exporter": "python",
   "pygments_lexer": "ipython2",
   "version": "2.7.6"
  }
 },
 "nbformat": 4,
 "nbformat_minor": 0
}
