{
 "cells": [
  {
   "cell_type": "code",
   "execution_count": 8,
   "metadata": {
    "collapsed": true
   },
   "outputs": [
    {
     "name": "stdout",
     "output_type": "stream",
     "text": [
      "   year                                               text\n",
      "0  1790  George Washington\\nJanuary 8, 1790\\n\\nFellow-C...\n"
     ]
    }
   ],
   "source": [
    "import csv\n",
    "import os\n",
    "import pandas as pd\n",
    "csv.field_size_limit(1000000000)\n",
    "\n",
    "# read csv file from data folder\n",
    "df = pd.read_csv(os.path.join('data', 'state-of-the-union.csv'), skiprows=0, names=['year','text'])\n",
    "# df.columns = ['year', 'text']\n",
    "# see first 10 rows\n",
    "print(df.head(1))"
   ]
  },
  {
   "cell_type": "code",
   "execution_count": 9,
   "outputs": [
    {
     "name": "stdout",
     "output_type": "stream",
     "text": [
      "0      1790\n",
      "1      1790\n",
      "2      1791\n",
      "3      1792\n",
      "4      1793\n",
      "       ... \n",
      "221    2008\n",
      "222    2009\n",
      "223    2010\n",
      "224    2011\n",
      "225    2012\n",
      "Name: year, Length: 226, dtype: int64\n",
      "0      George Washington\\nJanuary 8, 1790\\n\\nFellow-C...\n",
      "1      \\nState of the Union Address\\nGeorge Washingto...\n",
      "2      \\nState of the Union Address\\nGeorge Washingto...\n",
      "3      \\nState of the Union Address\\nGeorge Washingto...\n",
      "4      \\nState of the Union Address\\nGeorge Washingto...\n",
      "                             ...                        \n",
      "221    \\nState of the Union Address\\nGeorge W. Bush\\n...\n",
      "222    \\nAddress to Joint Session of Congress \\nBarac...\n",
      "223    \\nState of the Union Address\\nBarack Obama \\nJ...\n",
      "224    \\nState of the Union Address\\nBarack Obama \\nJ...\n",
      "225    \\nState of the Union Address\\nBarack Obama \\nJ...\n",
      "Name: text, Length: 226, dtype: object\n"
     ]
    }
   ],
   "source": [
    "print(df['year'])\n",
    "print(df['text'])\n"
   ],
   "metadata": {
    "collapsed": false
   }
  },
  {
   "cell_type": "code",
   "execution_count": 12,
   "outputs": [
    {
     "data": {
      "text/plain": "Empty DataFrame\nColumns: [year, text]\nIndex: []",
      "text/html": "<div>\n<style scoped>\n    .dataframe tbody tr th:only-of-type {\n        vertical-align: middle;\n    }\n\n    .dataframe tbody tr th {\n        vertical-align: top;\n    }\n\n    .dataframe thead th {\n        text-align: right;\n    }\n</style>\n<table border=\"1\" class=\"dataframe\">\n  <thead>\n    <tr style=\"text-align: right;\">\n      <th></th>\n      <th>year</th>\n      <th>text</th>\n    </tr>\n  </thead>\n  <tbody>\n  </tbody>\n</table>\n</div>"
     },
     "execution_count": 12,
     "metadata": {},
     "output_type": "execute_result"
    }
   ],
   "source": [
    "df[1:1]"
   ],
   "metadata": {
    "collapsed": false
   }
  }
 ],
 "metadata": {
  "kernelspec": {
   "display_name": "Python 3",
   "language": "python",
   "name": "python3"
  },
  "language_info": {
   "codemirror_mode": {
    "name": "ipython",
    "version": 2
   },
   "file_extension": ".py",
   "mimetype": "text/x-python",
   "name": "python",
   "nbconvert_exporter": "python",
   "pygments_lexer": "ipython2",
   "version": "2.7.6"
  }
 },
 "nbformat": 4,
 "nbformat_minor": 0
}
